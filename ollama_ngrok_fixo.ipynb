{
  "nbformat": 4,
  "nbformat_minor": 0,
  "metadata": {
    "colab": {
      "provenance": [],
      "authorship_tag": "ABX9TyNnkIlxtf9BL3Ew/7ub5Wau",
      "include_colab_link": true
    },
    "kernelspec": {
      "name": "python3",
      "display_name": "Python 3"
    },
    "language_info": {
      "name": "python"
    }
  },
  "cells": [
    {
      "cell_type": "markdown",
      "metadata": {
        "id": "view-in-github",
        "colab_type": "text"
      },
      "source": [
        "<a href=\"https://colab.research.google.com/github/Vlopes7/AI-Google-Colab/blob/main/ollama_ngrok_fixo.ipynb\" target=\"_parent\"><img src=\"https://colab.research.google.com/assets/colab-badge.svg\" alt=\"Open In Colab\"/></a>"
      ]
    },
    {
      "cell_type": "code",
      "source": [
        "!curl https://ollama.ai/install.sh | sh\n",
        "!wget https://bin.equinox.io/c/bNyj1mQVY4c/ngrok-v3-stable-linux-amd64.tgz\n",
        "!tar xvzf ./ngrok-v3-stable-linux-amd64.tgz"
      ],
      "metadata": {
        "id": "NpmRdzqGTRgR"
      },
      "execution_count": null,
      "outputs": []
    },
    {
      "cell_type": "code",
      "source": [
        "from google.colab import userdata\n",
        "auth_token=userdata.get('NGROK_AUTH_TOKEN')\n",
        "!./ngrok authtoken {auth_token}\n",
        "!ollama serve & ./ngrok http 11434 --host-header=\"localhost:11434\" --domain=\"in-emerging-guinea.ngrok-free.app\" --log stdout & sleep 5s && ollama run qwen2.5-coderfrom google.colab import userdata\n",
        "auth_token=userdata.get('NGROK_AUTH_TOKEN')\n",
        "!./ngrok authtoken {auth_token}\n",
        "!ollama serve & ./ngrok http 11434 --host-header=\"localhost:11434\" --domain=\"in-emerging-guinea.ngrok-free.app\" --log stdout & sleep 5s && ollama run qwen2.5-coder"
      ],
      "metadata": {
        "colab": {
          "base_uri": "https://localhost:8080/"
        },
        "id": "qIbK83baUotu",
        "outputId": "8820d2cf-37b8-4de7-e964-02e08b06a592"
      },
      "execution_count": 4,
      "outputs": [
        {
          "output_type": "stream",
          "name": "stdout",
          "text": [
            "^C\n"
          ]
        }
      ]
    }
  ]
}